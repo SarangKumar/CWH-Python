{
 "cells": [
  {
   "attachments": {},
   "cell_type": "markdown",
   "metadata": {},
   "source": [
    "#### len()"
   ]
  },
  {
   "cell_type": "code",
   "execution_count": 9,
   "metadata": {},
   "outputs": [
    {
     "name": "stdout",
     "output_type": "stream",
     "text": [
      "6\n"
     ]
    }
   ],
   "source": [
    "name = 'Sarang'\n",
    "length = len(name)\n",
    "print(length)"
   ]
  },
  {
   "attachments": {},
   "cell_type": "markdown",
   "metadata": {},
   "source": [
    "#### upper()"
   ]
  },
  {
   "cell_type": "code",
   "execution_count": 10,
   "metadata": {},
   "outputs": [
    {
     "name": "stdout",
     "output_type": "stream",
     "text": [
      "SARANG\n"
     ]
    }
   ],
   "source": [
    "#Operation 2 - Upper\n",
    "up = name.upper()\n",
    "print(up)\n"
   ]
  },
  {
   "attachments": {},
   "cell_type": "markdown",
   "metadata": {},
   "source": [
    "Notice that the .upper() method will return another string which is stored in another variable.(it is not modifing the original string)"
   ]
  },
  {
   "attachments": {},
   "cell_type": "markdown",
   "metadata": {},
   "source": [
    "#### lower()"
   ]
  },
  {
   "cell_type": "code",
   "execution_count": 11,
   "metadata": {},
   "outputs": [
    {
     "name": "stdout",
     "output_type": "stream",
     "text": [
      "sarang\n"
     ]
    }
   ],
   "source": [
    "#Operation 3 - Lower\n",
    "lw = name.lower()\n",
    "print(lw)"
   ]
  },
  {
   "cell_type": "code",
   "execution_count": 12,
   "metadata": {},
   "outputs": [
    {
     "name": "stdout",
     "output_type": "stream",
     "text": [
      "\n",
      "Lower      \n"
     ]
    }
   ],
   "source": [
    "a = '\\nLower      '\n",
    "print(a)"
   ]
  },
  {
   "attachments": {},
   "cell_type": "markdown",
   "metadata": {},
   "source": [
    "#### strip()"
   ]
  },
  {
   "cell_type": "code",
   "execution_count": 13,
   "metadata": {},
   "outputs": [
    {
     "name": "stdout",
     "output_type": "stream",
     "text": [
      "Lower\n"
     ]
    }
   ],
   "source": [
    "new = a.strip() \n",
    "print(new)"
   ]
  },
  {
   "attachments": {},
   "cell_type": "markdown",
   "metadata": {},
   "source": [
    "#### rstrip() and lstrip()"
   ]
  },
  {
   "cell_type": "code",
   "execution_count": 14,
   "metadata": {},
   "outputs": [
    {
     "name": "stdout",
     "output_type": "stream",
     "text": [
      "\n",
      "Lower\n",
      "Lower      \n",
      "!!!!Sarang!!\n",
      "Sarang\n",
      "!!!!Sarang\n",
      "Sarang!!\n"
     ]
    }
   ],
   "source": [
    "new = a.rstrip()\n",
    "print(new)\n",
    "new = a.lstrip()\n",
    "print(new)\n",
    "\n",
    "b = '!!!!Sarang!!'\n",
    "print(b)\n",
    "print(b.strip('!'))\n",
    "print(b.rstrip('!'))\n",
    "print(b.lstrip('!'))"
   ]
  },
  {
   "attachments": {},
   "cell_type": "markdown",
   "metadata": {},
   "source": [
    "#### replace()"
   ]
  },
  {
   "cell_type": "code",
   "execution_count": 15,
   "metadata": {},
   "outputs": [
    {
     "name": "stdout",
     "output_type": "stream",
     "text": [
      "HelloHelloWorld\n",
      "HiHiWorld\n"
     ]
    }
   ],
   "source": [
    "a = 'HelloHelloWorld'\n",
    "print(a)\n",
    "print(a.replace('Hello', 'Hi'))"
   ]
  },
  {
   "attachments": {},
   "cell_type": "markdown",
   "metadata": {},
   "source": [
    "#### split()"
   ]
  },
  {
   "cell_type": "code",
   "execution_count": 20,
   "metadata": {},
   "outputs": [
    {
     "name": "stdout",
     "output_type": "stream",
     "text": [
      "['This', 'is', 'a', 'string']\n",
      "['Th', 's ', 's a str', 'ng']\n",
      "['Name']\n"
     ]
    }
   ],
   "source": [
    "var = 'This is a string'\n",
    "var2 = 'Name'\n",
    "\n",
    "print(var.split(' '))\n",
    "print(var.split('i'))\n",
    "print(var2.split())"
   ]
  },
  {
   "attachments": {},
   "cell_type": "markdown",
   "metadata": {},
   "source": [
    "#### capitalize()"
   ]
  },
  {
   "cell_type": "code",
   "execution_count": 24,
   "metadata": {},
   "outputs": [
    {
     "name": "stdout",
     "output_type": "stream",
     "text": [
      "First string. this is another string\n"
     ]
    }
   ],
   "source": [
    "somestring = 'fiRSt String. this is aNoTHEr string'\n",
    "print(somestring.capitalize())"
   ]
  },
  {
   "attachments": {},
   "cell_type": "markdown",
   "metadata": {},
   "source": [
    "#### title()"
   ]
  },
  {
   "cell_type": "code",
   "execution_count": 22,
   "metadata": {},
   "outputs": [
    {
     "name": "stdout",
     "output_type": "stream",
     "text": [
      "This Is A String\n"
     ]
    }
   ],
   "source": [
    "s = 'this is a string'\n",
    "print(s.title())"
   ]
  },
  {
   "attachments": {},
   "cell_type": "markdown",
   "metadata": {},
   "source": [
    "#### center()"
   ]
  },
  {
   "cell_type": "code",
   "execution_count": 28,
   "metadata": {},
   "outputs": [
    {
     "name": "stdout",
     "output_type": "stream",
     "text": [
      "                Incenter                \n",
      "----------------Incenter----------------\n",
      "40\n"
     ]
    }
   ],
   "source": [
    "a = 'Incenter'\n",
    "print(a.center(40))\n",
    "print(a.center(40, '-'))\n",
    "print(len(a.center(40)))"
   ]
  },
  {
   "attachments": {},
   "cell_type": "markdown",
   "metadata": {},
   "source": [
    "#### count()"
   ]
  },
  {
   "cell_type": "code",
   "execution_count": 29,
   "metadata": {},
   "outputs": [
    {
     "name": "stdout",
     "output_type": "stream",
     "text": [
      "4\n"
     ]
    }
   ],
   "source": [
    "c = 'Count how many i are there in this string'\n",
    "print(c.count('i'))"
   ]
  },
  {
   "attachments": {},
   "cell_type": "markdown",
   "metadata": {},
   "source": [
    "#### endswith()"
   ]
  },
  {
   "cell_type": "code",
   "execution_count": 33,
   "metadata": {},
   "outputs": [
    {
     "name": "stdout",
     "output_type": "stream",
     "text": [
      "True\n",
      "True\n",
      "False\n",
      "True\n"
     ]
    }
   ],
   "source": [
    "a = 'Hello World!'\n",
    "print(a.endswith('!'))\n",
    "print(a.endswith('d!'))\n",
    "print(a.endswith('d'))\n",
    "print(a.endswith('d', 4, 11)) #check if the string 'o World' ends with d"
   ]
  },
  {
   "attachments": {},
   "cell_type": "markdown",
   "metadata": {},
   "source": [
    "#### startswith()"
   ]
  },
  {
   "cell_type": "code",
   "execution_count": 2,
   "metadata": {},
   "outputs": [
    {
     "name": "stdout",
     "output_type": "stream",
     "text": [
      "True\n",
      "True\n",
      "False\n",
      "True\n"
     ]
    }
   ],
   "source": [
    "a = 'Hello World!'\n",
    "print(a.startswith('H'))\n",
    "print(a.startswith('He'))\n",
    "print(a.startswith('d'))\n",
    "print(a.startswith('l', 2, 11)) #check if the string 'llo World' ends with l"
   ]
  },
  {
   "attachments": {},
   "cell_type": "markdown",
   "metadata": {},
   "source": [
    "#### find()"
   ]
  },
  {
   "cell_type": "code",
   "execution_count": 36,
   "metadata": {},
   "outputs": [
    {
     "name": "stdout",
     "output_type": "stream",
     "text": [
      "2\n",
      "5\n",
      "-1\n"
     ]
    }
   ],
   "source": [
    "#gives the index of the first occurance of the subtring in the given string\n",
    "#if the substring is not there in the given string then it returns -1\n",
    "\n",
    "a = 'This is home'\n",
    "print(a.find('i'))\n",
    "print(a.find('i', 4))\n",
    "print(a.find('a'))"
   ]
  },
  {
   "attachments": {},
   "cell_type": "markdown",
   "metadata": {},
   "source": [
    "#### index()"
   ]
  },
  {
   "cell_type": "code",
   "execution_count": 38,
   "metadata": {},
   "outputs": [
    {
     "name": "stdout",
     "output_type": "stream",
     "text": [
      "2\n",
      "5\n"
     ]
    },
    {
     "ename": "ValueError",
     "evalue": "substring not found",
     "output_type": "error",
     "traceback": [
      "\u001b[1;31m---------------------------------------------------------------------------\u001b[0m",
      "\u001b[1;31mValueError\u001b[0m                                Traceback (most recent call last)",
      "Cell \u001b[1;32mIn [38], line 8\u001b[0m\n\u001b[0;32m      6\u001b[0m \u001b[39mprint\u001b[39m(a\u001b[39m.\u001b[39mindex(\u001b[39m'\u001b[39m\u001b[39mi\u001b[39m\u001b[39m'\u001b[39m))\n\u001b[0;32m      7\u001b[0m \u001b[39mprint\u001b[39m(a\u001b[39m.\u001b[39mindex(\u001b[39m'\u001b[39m\u001b[39mi\u001b[39m\u001b[39m'\u001b[39m, \u001b[39m4\u001b[39m))\n\u001b[1;32m----> 8\u001b[0m \u001b[39mprint\u001b[39m(a\u001b[39m.\u001b[39;49mindex(\u001b[39m'\u001b[39;49m\u001b[39ma\u001b[39;49m\u001b[39m'\u001b[39;49m))\n",
      "\u001b[1;31mValueError\u001b[0m: substring not found"
     ]
    }
   ],
   "source": [
    "#Very similar to find method except it rasies exception when the substring is not found in the given string\n",
    "\n",
    "a = 'This is home'\n",
    "print(a.index('i'))\n",
    "print(a.index('i', 4))\n",
    "print(a.index('a'))"
   ]
  },
  {
   "attachments": {},
   "cell_type": "markdown",
   "metadata": {},
   "source": [
    "#### isalnum()\n",
    "The alnum() method returns True only if the entire string consists of A-Z, a-z, 0-9. If any other character or punctuations are present, then it returns False"
   ]
  },
  {
   "cell_type": "code",
   "execution_count": 6,
   "metadata": {},
   "outputs": [
    {
     "name": "stdout",
     "output_type": "stream",
     "text": [
      "False\n",
      "True\n"
     ]
    }
   ],
   "source": [
    "str = 'This is a console'\n",
    "print(str.isalnum())\n",
    "str = 'ThisIsAConsole11'\n",
    "print(str.isalnum())"
   ]
  },
  {
   "attachments": {},
   "cell_type": "markdown",
   "metadata": {},
   "source": [
    "#### isalpha()\n",
    "The alpha() method returns True if the entire string consists only A-Z and a-z and returns False if any other character or digit(0-9) is present."
   ]
  },
  {
   "cell_type": "code",
   "execution_count": 8,
   "metadata": {},
   "outputs": [
    {
     "name": "stdout",
     "output_type": "stream",
     "text": [
      "False\n",
      "True\n"
     ]
    }
   ],
   "source": [
    "s='MyName1'\n",
    "print(s.isalpha())\n",
    "s='MyName'\n",
    "print(s.isalpha())"
   ]
  },
  {
   "attachments": {},
   "cell_type": "markdown",
   "metadata": {},
   "source": [
    "#### islower()\n",
    "The islower() method returns True if all the character in the string are lower case, else it returns False"
   ]
  },
  {
   "cell_type": "code",
   "execution_count": 11,
   "metadata": {},
   "outputs": [
    {
     "name": "stdout",
     "output_type": "stream",
     "text": [
      "False\n",
      "True\n",
      "False\n"
     ]
    }
   ],
   "source": [
    "str = 'Hello World!'\n",
    "print(str.islower())\n",
    "str = 'hello world!'\n",
    "print(str.islower())\n",
    "str = 'HELLO WORLD!!'\n",
    "print(str.islower())"
   ]
  },
  {
   "attachments": {},
   "cell_type": "markdown",
   "metadata": {},
   "source": [
    "#### isupper()\n",
    "The isupper() method returns True if all the character in the string are upper case, else it returns False"
   ]
  },
  {
   "cell_type": "code",
   "execution_count": 13,
   "metadata": {},
   "outputs": [
    {
     "name": "stdout",
     "output_type": "stream",
     "text": [
      "False\n",
      "False\n",
      "True\n"
     ]
    }
   ],
   "source": [
    "str = 'Hello World!'\n",
    "print(str.isupper())\n",
    "str = 'hello world!'\n",
    "print(str.isupper())\n",
    "str = 'HELLO WORLD!!'\n",
    "print(str.isupper())"
   ]
  },
  {
   "attachments": {},
   "cell_type": "markdown",
   "metadata": {},
   "source": [
    "#### isprintable()\n",
    "The isprintable() method returns True if all the characters within the given string are printable, if not, then returns False"
   ]
  },
  {
   "cell_type": "code",
   "execution_count": 17,
   "metadata": {},
   "outputs": [
    {
     "name": "stdout",
     "output_type": "stream",
     "text": [
      "False\n",
      "True\n",
      "False\n",
      "False\n"
     ]
    }
   ],
   "source": [
    "a = '\\n\\n'\n",
    "print(a.isprintable())\n",
    "a='    '\n",
    "print(a.isprintable())\n",
    "a='\\t    \\t\\n'\n",
    "print(a.isprintable())\n",
    "a='''\n",
    "\n",
    "'''\n",
    "print(a.isprintable())"
   ]
  },
  {
   "attachments": {},
   "cell_type": "markdown",
   "metadata": {},
   "source": [
    "#### isspace() \n",
    "The isspace() function returns true only if the string contains spaces else False"
   ]
  },
  {
   "cell_type": "code",
   "execution_count": 20,
   "metadata": {},
   "outputs": [
    {
     "name": "stdout",
     "output_type": "stream",
     "text": [
      "False\n",
      "True\n",
      "False\n",
      "False\n"
     ]
    }
   ],
   "source": [
    "a = '\\n'\n",
    "print(a.isprintable())\n",
    "a=' ' #using space\n",
    "print(a.isprintable())\n",
    "a='\\t    \\t\\n'\n",
    "print(a.isprintable())\n",
    "a=' ' #using tab\n",
    "print(a.isprintable())"
   ]
  },
  {
   "attachments": {},
   "cell_type": "markdown",
   "metadata": {},
   "source": [
    "#### istitle()\n",
    "The istitle() returns True only if the first letter of each word of the string is capitalized else it returns False"
   ]
  },
  {
   "cell_type": "code",
   "execution_count": 21,
   "metadata": {},
   "outputs": [
    {
     "name": "stdout",
     "output_type": "stream",
     "text": [
      "True\n",
      "False\n",
      "True\n"
     ]
    }
   ],
   "source": [
    "a = 'Hello World'\n",
    "print(a.istitle())\n",
    "a = 'Hello world'\n",
    "print(a.istitle())\n",
    "a = 'Hello World !'\n",
    "print(a.istitle())"
   ]
  },
  {
   "attachments": {},
   "cell_type": "markdown",
   "metadata": {},
   "source": [
    "#### swapcase()\n",
    "This method changes the caseing of the given string i.e. it changes the upper case to lower case and lower case to upper case. "
   ]
  },
  {
   "cell_type": "code",
   "execution_count": 23,
   "metadata": {},
   "outputs": [
    {
     "name": "stdout",
     "output_type": "stream",
     "text": [
      "mY NAME IS sARANG\n"
     ]
    }
   ],
   "source": [
    "string = 'My name is Sarang'\n",
    "print(string.swapcase())"
   ]
  }
 ],
 "metadata": {
  "kernelspec": {
   "display_name": "Python 3",
   "language": "python",
   "name": "python3"
  },
  "language_info": {
   "codemirror_mode": {
    "name": "ipython",
    "version": 3
   },
   "file_extension": ".py",
   "mimetype": "text/x-python",
   "name": "python",
   "nbconvert_exporter": "python",
   "pygments_lexer": "ipython3",
   "version": "3.10.7"
  },
  "orig_nbformat": 4,
  "vscode": {
   "interpreter": {
    "hash": "369f2c481f4da34e4445cda3fffd2e751bd1c4d706f27375911949ba6bb62e1c"
   }
  }
 },
 "nbformat": 4,
 "nbformat_minor": 2
}
