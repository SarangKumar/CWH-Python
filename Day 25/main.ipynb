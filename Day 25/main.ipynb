{
 "cells": [
  {
   "cell_type": "code",
   "execution_count": 3,
   "metadata": {},
   "outputs": [
    {
     "name": "stdout",
     "output_type": "stream",
     "text": [
      "('Apple', 'Banana', 'Tomato')\n"
     ]
    }
   ],
   "source": [
    "# here we are creating a new tuple original tuple is the same since it's immutable\n",
    "temp = ('Apple', 'Banana', 'Tomato', 'Ladyfinger')\n",
    "fruits = list(temp)\n",
    "fruits.pop()\n",
    "fruits = tuple(fruits)\n",
    "print(fruits)"
   ]
  },
  {
   "attachments": {},
   "cell_type": "markdown",
   "metadata": {},
   "source": [
    "#### count()"
   ]
  },
  {
   "cell_type": "code",
   "execution_count": 11,
   "metadata": {},
   "outputs": [
    {
     "name": "stdout",
     "output_type": "stream",
     "text": [
      "5 0\n"
     ]
    }
   ],
   "source": [
    "# counts the occurance of a given element in the list\n",
    "\n",
    "tp1 = (0,1,2,3,4,4,4,6,4,4,3,2)\n",
    "four_count = tp1.count(4)\n",
    "five_count = tp1.count(5)\n",
    "print(four_count, five_count)"
   ]
  },
  {
   "attachments": {},
   "cell_type": "markdown",
   "metadata": {},
   "source": [
    "#### index()"
   ]
  },
  {
   "cell_type": "code",
   "execution_count": 14,
   "metadata": {},
   "outputs": [
    {
     "name": "stdout",
     "output_type": "stream",
     "text": [
      "4\n",
      "6\n"
     ]
    }
   ],
   "source": [
    "# returns first occurance of the given element in the tuple\n",
    "\n",
    "tp1 = (0,1,2,3,4,4,4,6,4,4,3,2)\n",
    "four_index = tp1.index(4)\n",
    "print(four_index)\n",
    "\n",
    "# raises value error if the element is not in that tuple\n",
    "\n",
    "# value error\n",
    "# tp1.index(5)\n",
    "\n",
    "# can be used to find the index of an element in a part of the tuple i.e. we can use kinda slicing\n",
    "# format: tuple_name.index(element, start, end)\n",
    "\n",
    "four_index_mid = tp1.index(4, 6, 10)\n",
    "print(four_index_mid)"
   ]
  },
  {
   "attachments": {},
   "cell_type": "markdown",
   "metadata": {},
   "source": [
    "#### len()"
   ]
  },
  {
   "cell_type": "code",
   "execution_count": 16,
   "metadata": {},
   "outputs": [
    {
     "name": "stdout",
     "output_type": "stream",
     "text": [
      "12\n"
     ]
    }
   ],
   "source": [
    "# returns the length of the tuple\n",
    "\n",
    "tp1 = (0,1,2,3,4,4,4,6,4,4,3,2)\n",
    "length_tuple = len(tp1)\n",
    "print(length_tuple)"
   ]
  }
 ],
 "metadata": {
  "kernelspec": {
   "display_name": "Python 3",
   "language": "python",
   "name": "python3"
  },
  "language_info": {
   "codemirror_mode": {
    "name": "ipython",
    "version": 3
   },
   "file_extension": ".py",
   "mimetype": "text/x-python",
   "name": "python",
   "nbconvert_exporter": "python",
   "pygments_lexer": "ipython3",
   "version": "3.10.7"
  },
  "orig_nbformat": 4,
  "vscode": {
   "interpreter": {
    "hash": "369f2c481f4da34e4445cda3fffd2e751bd1c4d706f27375911949ba6bb62e1c"
   }
  }
 },
 "nbformat": 4,
 "nbformat_minor": 2
}
