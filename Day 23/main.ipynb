{
 "cells": [
  {
   "attachments": {},
   "cell_type": "markdown",
   "metadata": {},
   "source": [
    "# List Methods"
   ]
  },
  {
   "attachments": {},
   "cell_type": "markdown",
   "metadata": {},
   "source": [
    "#### append()"
   ]
  },
  {
   "cell_type": "code",
   "execution_count": 1,
   "metadata": {},
   "outputs": [
    {
     "name": "stdout",
     "output_type": "stream",
     "text": [
      "[10, 50, 20, 30, 90, 5, 40]\n"
     ]
    }
   ],
   "source": [
    "# used to add the element at the end of the list\n",
    "\n",
    "list1 = [10, 50, 20, 30, 90 , 5]\n",
    "list1.append(40)\n",
    "print(list1)"
   ]
  },
  {
   "attachments": {},
   "cell_type": "markdown",
   "metadata": {},
   "source": [
    "#### sort()"
   ]
  },
  {
   "cell_type": "code",
   "execution_count": 4,
   "metadata": {},
   "outputs": [
    {
     "name": "stdout",
     "output_type": "stream",
     "text": [
      "[5, 10, 20, 30, 50, 90]\n",
      "[90, 50, 30, 20, 10, 5]\n"
     ]
    }
   ],
   "source": [
    "# used to sort the given list in ascending order\n",
    "\n",
    "list1 = [10, 50, 20, 30, 90 , 5]\n",
    "list1.sort()\n",
    "print(list1)\n",
    "\n",
    "list1.sort(reverse=True)\n",
    "print(list1)"
   ]
  },
  {
   "attachments": {},
   "cell_type": "markdown",
   "metadata": {},
   "source": [
    "#### reverse()"
   ]
  },
  {
   "cell_type": "code",
   "execution_count": 5,
   "metadata": {},
   "outputs": [
    {
     "name": "stdout",
     "output_type": "stream",
     "text": [
      "[5, 90, 30, 20, 50, 10]\n"
     ]
    }
   ],
   "source": [
    "# used to reverse the order of the list elements\n",
    "\n",
    "list1 = [10, 50, 20, 30, 90 , 5]\n",
    "list1.reverse()\n",
    "print(list1)"
   ]
  },
  {
   "attachments": {},
   "cell_type": "markdown",
   "metadata": {},
   "source": [
    "#### index()"
   ]
  },
  {
   "cell_type": "code",
   "execution_count": 8,
   "metadata": {},
   "outputs": [
    {
     "name": "stdout",
     "output_type": "stream",
     "text": [
      "2\n"
     ]
    }
   ],
   "source": [
    "# returns the index of the given element as a paramter in the function\n",
    "\n",
    "list1 = [10, 50, 20, 30, 90 , 5]\n",
    "index = list1.index(20)\n",
    "print(index)"
   ]
  },
  {
   "attachments": {},
   "cell_type": "markdown",
   "metadata": {},
   "source": [
    "#### count()"
   ]
  },
  {
   "cell_type": "code",
   "execution_count": 9,
   "metadata": {},
   "outputs": [
    {
     "name": "stdout",
     "output_type": "stream",
     "text": [
      "1 2 0\n"
     ]
    }
   ],
   "source": [
    "# returns the number of occurance of the element that is given as paramter\n",
    "\n",
    "list1 = [10, 50, 20, 30, 90, 50]\n",
    "index1 = list1.count(10)\n",
    "index2 = list1.count(50)\n",
    "index3 = list1.count(0)\n",
    "print(index1, index2, index3)"
   ]
  },
  {
   "attachments": {},
   "cell_type": "markdown",
   "metadata": {},
   "source": [
    "#### copy()"
   ]
  },
  {
   "cell_type": "code",
   "execution_count": 10,
   "metadata": {},
   "outputs": [
    {
     "name": "stdout",
     "output_type": "stream",
     "text": [
      "[1, 2, 3, 4]\n",
      "[1, 2, 3]\n"
     ]
    }
   ],
   "source": [
    "# returns a shallow copy of a list\n",
    "\n",
    "list1 = [1,2,3]\n",
    "list2 = list1.copy()\n",
    "list1.append(4)\n",
    "print(list1)\n",
    "print(list2)"
   ]
  },
  {
   "cell_type": "code",
   "execution_count": 12,
   "metadata": {},
   "outputs": [
    {
     "name": "stdout",
     "output_type": "stream",
     "text": [
      "[1, 2, 3, 4]\n",
      "[1, 2, 3, 4]\n"
     ]
    }
   ],
   "source": [
    "# creating a deep copy\n",
    "\n",
    "list1 = [1,2,3]\n",
    "list2 = list1\n",
    "list1.append(4)\n",
    "print(list1)\n",
    "print(list2)"
   ]
  },
  {
   "attachments": {},
   "cell_type": "markdown",
   "metadata": {},
   "source": [
    "#### insert()"
   ]
  },
  {
   "cell_type": "code",
   "execution_count": 13,
   "metadata": {},
   "outputs": [
    {
     "name": "stdout",
     "output_type": "stream",
     "text": [
      "['tomato', 'kiwi', 'orange', 'pinneapple', 'apple']\n"
     ]
    }
   ],
   "source": [
    "# used to insert a given element at a given position in the list\n",
    "\n",
    "l1 = ['tomato', 'kiwi', 'orange', 'apple']\n",
    "l1.insert(3, 'pinneapple')\n",
    "print(l1)"
   ]
  },
  {
   "attachments": {},
   "cell_type": "markdown",
   "metadata": {},
   "source": [
    "#### extend()"
   ]
  },
  {
   "cell_type": "code",
   "execution_count": 16,
   "metadata": {},
   "outputs": [
    {
     "name": "stdout",
     "output_type": "stream",
     "text": [
      "['hello', 'world', 'in', 'python']\n",
      "['hello', 'world', 'in', 'python', '!']\n"
     ]
    }
   ],
   "source": [
    "# used to append a list or a particular item to an existing list\n",
    "\n",
    "l1 = ['hello', 'world']\n",
    "l2 = ['in', 'python']\n",
    "l1.extend(l2)\n",
    "print(l1)\n",
    "\n",
    "l1.extend('!')\n",
    "print(l1)"
   ]
  },
  {
   "cell_type": "code",
   "execution_count": 17,
   "metadata": {},
   "outputs": [
    {
     "name": "stdout",
     "output_type": "stream",
     "text": [
      "\n"
     ]
    }
   ],
   "source": [
    "# how to join two lists and create a new one\n",
    "m= [1,2]\n",
    "n=[3,4]\n",
    "\n",
    "l = m+n\n",
    "print()"
   ]
  }
 ],
 "metadata": {
  "kernelspec": {
   "display_name": "Python 3",
   "language": "python",
   "name": "python3"
  },
  "language_info": {
   "codemirror_mode": {
    "name": "ipython",
    "version": 3
   },
   "file_extension": ".py",
   "mimetype": "text/x-python",
   "name": "python",
   "nbconvert_exporter": "python",
   "pygments_lexer": "ipython3",
   "version": "3.10.7"
  },
  "orig_nbformat": 4,
  "vscode": {
   "interpreter": {
    "hash": "369f2c481f4da34e4445cda3fffd2e751bd1c4d706f27375911949ba6bb62e1c"
   }
  }
 },
 "nbformat": 4,
 "nbformat_minor": 2
}
