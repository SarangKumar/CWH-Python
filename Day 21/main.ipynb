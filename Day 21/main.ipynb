{
 "cells": [
  {
   "attachments": {},
   "cell_type": "markdown",
   "metadata": {},
   "source": [
    "#### Default Arguments"
   ]
  },
  {
   "cell_type": "code",
   "execution_count": 16,
   "metadata": {},
   "outputs": [
    {
     "name": "stdout",
     "output_type": "stream",
     "text": [
      "Hello User\n",
      "Hello Rohan\n"
     ]
    }
   ],
   "source": [
    "def greeting(user='User'):\n",
    "    print('Hello', user)\n",
    "\n",
    "greeting()\n",
    "greeting('Rohan')"
   ]
  },
  {
   "cell_type": "code",
   "execution_count": 17,
   "metadata": {},
   "outputs": [
    {
     "name": "stdout",
     "output_type": "stream",
     "text": [
      "The average is 15.0\n",
      "The average is 1.5\n",
      "The average is 11.0\n"
     ]
    }
   ],
   "source": [
    "def average(a=10, b=20):\n",
    "    print('The average is', (a+b)/2)\n",
    "\n",
    "average() #default value to both\n",
    "average(1,2) #default value to none\n",
    "average(2) #default value to b\n"
   ]
  },
  {
   "attachments": {},
   "cell_type": "markdown",
   "metadata": {},
   "source": [
    "#### Keyword Arguments"
   ]
  },
  {
   "cell_type": "code",
   "execution_count": 18,
   "metadata": {},
   "outputs": [
    {
     "name": "stdout",
     "output_type": "stream",
     "text": [
      "Hi Aditya Roy Kapoor\n",
      "Hi Aditya Roy Kapoor\n",
      "Hi Aditya Roy Kapoor\n"
     ]
    }
   ],
   "source": [
    "def hi(fname, mname, lname):\n",
    "    print('Hi', fname, mname, lname)\n",
    "\n",
    "hi('Aditya', 'Roy', 'Kapoor')\n",
    "hi('Aditya', lname='Kapoor', mname='Roy')\n",
    "hi(lname='Kapoor', mname='Roy', fname='Aditya')"
   ]
  },
  {
   "attachments": {},
   "cell_type": "markdown",
   "metadata": {},
   "source": [
    "#### Required Arguments"
   ]
  },
  {
   "cell_type": "code",
   "execution_count": 21,
   "metadata": {},
   "outputs": [
    {
     "name": "stdout",
     "output_type": "stream",
     "text": [
      "Your purchase of 5 items costs Rs 100\n"
     ]
    }
   ],
   "source": [
    "def pricing(items, price):\n",
    "    print('Your purchase of',items,'items costs Rs',price)\n",
    "\n",
    "pricing(5,100)"
   ]
  },
  {
   "attachments": {},
   "cell_type": "markdown",
   "metadata": {},
   "source": [
    "#### Variable Arguments"
   ]
  },
  {
   "attachments": {},
   "cell_type": "markdown",
   "metadata": {},
   "source": [
    "**Arbitrary Arguments - tuple**"
   ]
  },
  {
   "cell_type": "code",
   "execution_count": 25,
   "metadata": {},
   "outputs": [
    {
     "name": "stdout",
     "output_type": "stream",
     "text": [
      "(1, 2, 3, 3, 5) <class 'tuple'>\n",
      "14\n"
     ]
    }
   ],
   "source": [
    "def varAvg(*numbers):\n",
    "    print(numbers, type(numbers))\n",
    "    sum=0\n",
    "    for i in numbers:\n",
    "        sum+=i\n",
    "    print(sum)\n",
    "varAvg(1,2,3,3,5)"
   ]
  },
  {
   "attachments": {},
   "cell_type": "markdown",
   "metadata": {},
   "source": [
    "**Arbitrary Arguments - dictionary**"
   ]
  },
  {
   "cell_type": "code",
   "execution_count": 29,
   "metadata": {},
   "outputs": [
    {
     "name": "stdout",
     "output_type": "stream",
     "text": [
      "{'fname': 'Neel', 'mname': 'Nitin', 'lname': 'Mukesh'} <class 'dict'>\n",
      "Hello👋 Neel Nitin Mukesh\n"
     ]
    }
   ],
   "source": [
    "def name(**name):\n",
    "    print(name, type(name))\n",
    "    print('Hello👋', name['fname'], name['mname'], name['lname'])\n",
    "\n",
    "name(fname='Neel', mname='Nitin', lname='Mukesh')"
   ]
  },
  {
   "cell_type": "code",
   "execution_count": null,
   "metadata": {},
   "outputs": [],
   "source": []
  }
 ],
 "metadata": {
  "kernelspec": {
   "display_name": "Python 3",
   "language": "python",
   "name": "python3"
  },
  "language_info": {
   "codemirror_mode": {
    "name": "ipython",
    "version": 3
   },
   "file_extension": ".py",
   "mimetype": "text/x-python",
   "name": "python",
   "nbconvert_exporter": "python",
   "pygments_lexer": "ipython3",
   "version": "3.10.7"
  },
  "orig_nbformat": 4,
  "vscode": {
   "interpreter": {
    "hash": "369f2c481f4da34e4445cda3fffd2e751bd1c4d706f27375911949ba6bb62e1c"
   }
  }
 },
 "nbformat": 4,
 "nbformat_minor": 2
}
