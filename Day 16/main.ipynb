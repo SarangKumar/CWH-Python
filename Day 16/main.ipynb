{
 "cells": [
  {
   "cell_type": "code",
   "execution_count": 1,
   "metadata": {},
   "outputs": [
    {
     "name": "stdout",
     "output_type": "stream",
     "text": [
      "Uh oh. Are you lost?\n"
     ]
    }
   ],
   "source": [
    "response_code = 400\n",
    "\n",
    "match response_code:\n",
    "    case 200:\n",
    "        print(\"Everything's peachy!\")\n",
    "    case 300:\n",
    "        print(\"You're going somewhere else!\")\n",
    "    case 400:\n",
    "        print(\"Uh oh. Are you lost?\")\n",
    "    case 500:\n",
    "        print(\"Yikes. Something went wrong!\")"
   ]
  },
  {
   "cell_type": "code",
   "execution_count": 2,
   "metadata": {},
   "outputs": [
    {
     "name": "stdout",
     "output_type": "stream",
     "text": [
      "Yikers. I don't know that one.\n"
     ]
    }
   ],
   "source": [
    "# Providing default cases\n",
    "response_code = 600\n",
    "\n",
    "match int(str(response_code)[0]):\n",
    "    case 2:\n",
    "        print(\"Everything's peachy!\")\n",
    "    case 3:\n",
    "        print(\"You're going somewhere else!\")\n",
    "    case 4:\n",
    "        print(\"Uh oh. Are you lost?\")\n",
    "    case 5:\n",
    "        print(\"Yikes. Something went wrong!\")\n",
    "    case _:\n",
    "        print(\"Yikers. I don't know that one.\")\n",
    "\n",
    "# Returns:\n",
    "# Yikers. I don't know that one."
   ]
  },
  {
   "attachments": {},
   "cell_type": "markdown",
   "metadata": {},
   "source": [
    "credits: [datagy](https://datagy.io/python-switch-case/)"
   ]
  },
  {
   "cell_type": "code",
   "execution_count": 6,
   "metadata": {},
   "outputs": [
    {
     "name": "stdout",
     "output_type": "stream",
     "text": [
      "Case not found\n"
     ]
    }
   ],
   "source": [
    "number = 5\n",
    "condition = False\n",
    "match number:\n",
    "    case 0:\n",
    "        print('Your number is 0')\n",
    "    case 5 if condition:\n",
    "        print('Your numnber is 5 and is verified')\n",
    "    case 5 if condition:\n",
    "        print('Your numnber is 5 but is not verified')\n",
    "    case 10:\n",
    "        print('Your number is 10')\n",
    "    case other:\n",
    "        print('Case not found')"
   ]
  }
 ],
 "metadata": {
  "kernelspec": {
   "display_name": "Python 3",
   "language": "python",
   "name": "python3"
  },
  "language_info": {
   "codemirror_mode": {
    "name": "ipython",
    "version": 3
   },
   "file_extension": ".py",
   "mimetype": "text/x-python",
   "name": "python",
   "nbconvert_exporter": "python",
   "pygments_lexer": "ipython3",
   "version": "3.10.7"
  },
  "orig_nbformat": 4,
  "vscode": {
   "interpreter": {
    "hash": "369f2c481f4da34e4445cda3fffd2e751bd1c4d706f27375911949ba6bb62e1c"
   }
  }
 },
 "nbformat": 4,
 "nbformat_minor": 2
}
