{
 "cells": [
  {
   "cell_type": "code",
   "execution_count": 2,
   "metadata": {},
   "outputs": [
    {
     "name": "stdout",
     "output_type": "stream",
     "text": [
      "Hey! I am Sarang and I am from India.\n"
     ]
    }
   ],
   "source": [
    "name = 'Sarang'\n",
    "country = 'India'\n",
    "string = 'Hey! I am '+ name +' and I am from '+country+'.'\n",
    "print(string)"
   ]
  },
  {
   "cell_type": "code",
   "execution_count": 10,
   "metadata": {},
   "outputs": [
    {
     "name": "stdout",
     "output_type": "stream",
     "text": [
      "Hey! I am Sarang and I am from India .\n"
     ]
    }
   ],
   "source": [
    "name = 'Sarang'\n",
    "country = 'India'\n",
    "string = ['Hey! I am', name,'and I am from',country,'.']\n",
    "string = ' '.join(string)\n",
    "print(string)"
   ]
  },
  {
   "cell_type": "code",
   "execution_count": 11,
   "metadata": {},
   "outputs": [
    {
     "name": "stdout",
     "output_type": "stream",
     "text": [
      "Hey! I am Sarang and I am from India .\n"
     ]
    }
   ],
   "source": [
    "name = 'Sarang'\n",
    "country = 'India'\n",
    "string = 'Hey! I am', name,'and I am from',country,'.'\n",
    "string = ' '.join(string)\n",
    "print(string)"
   ]
  },
  {
   "attachments": {},
   "cell_type": "markdown",
   "metadata": {},
   "source": [
    "#### using string method"
   ]
  },
  {
   "cell_type": "code",
   "execution_count": 14,
   "metadata": {},
   "outputs": [
    {
     "name": "stdout",
     "output_type": "stream",
     "text": [
      "Hey! I am Sarang and I am from India\n"
     ]
    }
   ],
   "source": [
    "name = 'Sarang'\n",
    "country = 'India'\n",
    "string = 'Hey! I am {} and I am from {}'.format(name, country)\n",
    "print(string)"
   ]
  },
  {
   "cell_type": "code",
   "execution_count": 22,
   "metadata": {},
   "outputs": [
    {
     "name": "stdout",
     "output_type": "stream",
     "text": [
      "Hey! I am India and I am from Sarang\n",
      "Hey! I am Sarang and I am from India\n",
      "Hey! I am Sarang and I am from India\n",
      "Hey! I am Sarang and I am from India\n"
     ]
    }
   ],
   "source": [
    "# order matters while writing f-strings\n",
    "name = 'Sarang'\n",
    "country = 'India'\n",
    "\n",
    "string = 'Hey! I am {} and I am from {}'.format(country, name)\n",
    "print(string)\n",
    "\n",
    "# to solve this we may use indexing\n",
    "\n",
    "string = 'Hey! I am {1} and I am from {0}'.format(country, name)\n",
    "print(string)\n",
    "\n",
    "# but more convencing way is using names\n",
    "\n",
    "string = 'Hey! I am {n} and I am from {c}'.format(c=country, n=name)\n",
    "print(string)\n",
    "\n",
    "string = 'Hey! I am {n} and I am from {c}'.format(n=name, c=country)\n",
    "print(string)"
   ]
  },
  {
   "cell_type": "code",
   "execution_count": 28,
   "metadata": {},
   "outputs": [
    {
     "name": "stdout",
     "output_type": "stream",
     "text": [
      "The price of 2 is 20.33\n"
     ]
    }
   ],
   "source": [
    "price, items = [20.33333, 2]\n",
    "txt = \"The price of {items} is {price:.2f}\"\n",
    "print(txt.format(items=items, price=price))"
   ]
  },
  {
   "attachments": {},
   "cell_type": "markdown",
   "metadata": {},
   "source": [
    "#### using f-string"
   ]
  },
  {
   "cell_type": "code",
   "execution_count": 18,
   "metadata": {},
   "outputs": [
    {
     "name": "stdout",
     "output_type": "stream",
     "text": [
      "Hey! I am Sarang and I am from India\n"
     ]
    }
   ],
   "source": [
    "name = 'Sarang'\n",
    "country = 'India'\n",
    "string = f'Hey! I am {name} and I am from {country}'\n",
    "print(string)"
   ]
  },
  {
   "cell_type": "code",
   "execution_count": 30,
   "metadata": {},
   "outputs": [
    {
     "name": "stdout",
     "output_type": "stream",
     "text": [
      "The price of 2 is  20.33\n"
     ]
    }
   ],
   "source": [
    "price, items = [20.33333, 2]\n",
    "txt = f\"The price of {items} is {price:.2f}\"\n",
    "print(txt)"
   ]
  },
  {
   "cell_type": "code",
   "execution_count": 43,
   "metadata": {},
   "outputs": [
    {
     "name": "stdout",
     "output_type": "stream",
     "text": [
      "Hi!! My name is {name} Sarang\n"
     ]
    }
   ],
   "source": [
    "# with f strings we can also use expressions inside {}\n",
    "\n",
    "# how to use {name} litreally in f-string aka raw f-string\n",
    "\n",
    "print(f'Hi!! My name is {{name}} {name}') #{{name}} is treated as set\n"
   ]
  },
  {
   "cell_type": "code",
   "execution_count": 41,
   "metadata": {},
   "outputs": [
    {
     "name": "stdout",
     "output_type": "stream",
     "text": [
      "The product of 3 and 23 is 69\n"
     ]
    }
   ],
   "source": [
    "maths = f'The product of {3} and {23} is {3*23}'\n",
    "print(maths)"
   ]
  },
  {
   "cell_type": "code",
   "execution_count": 42,
   "metadata": {},
   "outputs": [
    {
     "name": "stdout",
     "output_type": "stream",
     "text": [
      "Table of 13\n",
      "\n",
      "13x1=13\n",
      "13x2=26\n",
      "13x3=39\n",
      "13x4=52\n",
      "13x5=65\n",
      "13x6=78\n",
      "13x7=91\n",
      "13x8=104\n",
      "13x9=117\n",
      "13x10=130\n"
     ]
    }
   ],
   "source": [
    "print('Table of 13\\n')\n",
    "for i in range(1, 11):\n",
    "    print(f'{13}x{i}={13*i}')"
   ]
  },
  {
   "cell_type": "code",
   "execution_count": 44,
   "metadata": {},
   "outputs": [
    {
     "name": "stdout",
     "output_type": "stream",
     "text": [
      "The price of {items: .f} is {price: .2f}\n"
     ]
    }
   ],
   "source": [
    "price, items = [20.33333, 2]\n",
    "txt = 'The price of {items: .f} is {price: .2f}'\n",
    "print(txt)"
   ]
  }
 ],
 "metadata": {
  "kernelspec": {
   "display_name": "Python 3",
   "language": "python",
   "name": "python3"
  },
  "language_info": {
   "codemirror_mode": {
    "name": "ipython",
    "version": 3
   },
   "file_extension": ".py",
   "mimetype": "text/x-python",
   "name": "python",
   "nbconvert_exporter": "python",
   "pygments_lexer": "ipython3",
   "version": "3.10.7"
  },
  "orig_nbformat": 4,
  "vscode": {
   "interpreter": {
    "hash": "369f2c481f4da34e4445cda3fffd2e751bd1c4d706f27375911949ba6bb62e1c"
   }
  }
 },
 "nbformat": 4,
 "nbformat_minor": 2
}
