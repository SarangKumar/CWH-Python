{
 "cells": [
  {
   "cell_type": "code",
   "execution_count": 1,
   "metadata": {},
   "outputs": [
    {
     "name": "stdout",
     "output_type": "stream",
     "text": [
      "You cannot get DL.\n"
     ]
    }
   ],
   "source": [
    "age = 17\n",
    "if(age>=18):\n",
    "    print('You can get driving license')\n",
    "else:\n",
    "    print('You cannot get DL.')"
   ]
  },
  {
   "cell_type": "code",
   "execution_count": 2,
   "metadata": {},
   "outputs": [],
   "source": [
    "#if\n",
    "if(3>5):\n",
    "    print('3 is less than 5')"
   ]
  },
  {
   "cell_type": "code",
   "execution_count": 3,
   "metadata": {},
   "outputs": [
    {
     "name": "stdout",
     "output_type": "stream",
     "text": [
      "Let's get a new toy 😁\n"
     ]
    }
   ],
   "source": [
    "#if-else\n",
    "budget = 3000\n",
    "toyPrice = 2000\n",
    "if(toyPrice>budget):\n",
    "    print('Cannot buy the toy 🥲')\n",
    "else:\n",
    "    print('Let\\'s get a new toy 😁')"
   ]
  },
  {
   "cell_type": "code",
   "execution_count": 4,
   "metadata": {},
   "outputs": [
    {
     "name": "stdout",
     "output_type": "stream",
     "text": [
      "It's raining you should take an umbrealla with you\n"
     ]
    }
   ],
   "source": [
    "#if-elif-else\n",
    "weatherReport = False\n",
    "rain = True\n",
    "if(rain):\n",
    "    print('It\\'s raining you should take an umbrealla with you')\n",
    "elif(weatherReport):\n",
    "    print(\"The weather forecast says you should carry umbrealla with you\")\n",
    "else:\n",
    "    print('No need of umbrealla')"
   ]
  },
  {
   "cell_type": "code",
   "execution_count": 5,
   "metadata": {},
   "outputs": [
    {
     "name": "stdout",
     "output_type": "stream",
     "text": [
      "Sorry you don't have enough points\n"
     ]
    }
   ],
   "source": [
    "#if-else ladder\n",
    "coupon = 10\n",
    "if(coupon>=1000):\n",
    "    print('You can get a cricket bat')\n",
    "elif(coupon>=800):\n",
    "    print('You can get a badminton set')\n",
    "elif(coupon>=500):\n",
    "    print('You can get 5 hot wheel cars')\n",
    "elif(coupon>=100):\n",
    "    print('You can get a ball')\n",
    "else:\n",
    "    print('Sorry you don\\'t have enough points')\n"
   ]
  },
  {
   "cell_type": "code",
   "execution_count": 6,
   "metadata": {},
   "outputs": [
    {
     "name": "stdout",
     "output_type": "stream",
     "text": [
      "Number is between 0 and 100\n",
      "Number is between 0 and 50\n",
      "Number is between 0 and 10\n"
     ]
    }
   ],
   "source": [
    "#nested if-else\n",
    "number = 6\n",
    "if 0<=number<=100:\n",
    "    print('Number is between 0 and 100')\n",
    "    if 0<=number<=50:\n",
    "        print('Number is between 0 and 50')\n",
    "        if 0<=number<=10:\n",
    "            print('Number is between 0 and 10')\n",
    "        else:\n",
    "            print('Number is not between 0 and 10')\n",
    "    else:\n",
    "        print('Number is not between 0 and 50')\n",
    "else:\n",
    "    print('Number is not betweem 0 and 100')"
   ]
  },
  {
   "cell_type": "code",
   "execution_count": 7,
   "metadata": {},
   "outputs": [
    {
     "name": "stdout",
     "output_type": "stream",
     "text": [
      "expression is true\n",
      "expression is true\n"
     ]
    }
   ],
   "source": [
    "# 2 independent if blocks\n",
    "\n",
    "if 4==4:\n",
    "    print('expression is true')\n",
    "if 3>0:\n",
    "    print('expression is true')"
   ]
  }
 ],
 "metadata": {
  "kernelspec": {
   "display_name": "Python 3",
   "language": "python",
   "name": "python3"
  },
  "language_info": {
   "codemirror_mode": {
    "name": "ipython",
    "version": 3
   },
   "file_extension": ".py",
   "mimetype": "text/x-python",
   "name": "python",
   "nbconvert_exporter": "python",
   "pygments_lexer": "ipython3",
   "version": "3.10.7"
  },
  "orig_nbformat": 4,
  "vscode": {
   "interpreter": {
    "hash": "369f2c481f4da34e4445cda3fffd2e751bd1c4d706f27375911949ba6bb62e1c"
   }
  }
 },
 "nbformat": 4,
 "nbformat_minor": 2
}
